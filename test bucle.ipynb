{
 "cells": [
  {
   "cell_type": "code",
   "execution_count": 5,
   "id": "14f4d66e-71d9-47b9-a6ea-cb671390c897",
   "metadata": {},
   "outputs": [
    {
     "name": "stdout",
     "output_type": "stream",
     "text": [
      "5\n",
      "6\n",
      "7\n",
      "8\n"
     ]
    }
   ],
   "source": [
    "number = \"5678\"\n",
    "\n",
    "# Descomenta la siguiente línea para convertir 'number' en un entero\n",
    "\n",
    "# Itera a través de cada carácter en la cadena 'number'\n",
    "for i in number:\n",
    "    # Imprime cada carácter\n",
    "    print(i)"
   ]
  },
  {
   "cell_type": "code",
   "execution_count": 4,
   "id": "d78f3efe-d561-4f3c-9028-9e474486ef9f",
   "metadata": {},
   "outputs": [
    {
     "name": "stdout",
     "output_type": "stream",
     "text": [
      "5\n",
      "6\n",
      "7\n",
      "8\n",
      ".\n",
      "5\n",
      "6\n",
      "7\n"
     ]
    }
   ],
   "source": [
    "number = 5678.567\n",
    "number_str = str(number)  # Convierte el número a una cadena\n",
    "for digit in number_str:\n",
    "    print(digit)"
   ]
  },
  {
   "cell_type": "code",
   "execution_count": 6,
   "id": "a656a210-d097-4c6b-95fc-71ca7e63a242",
   "metadata": {},
   "outputs": [
    {
     "name": "stdout",
     "output_type": "stream",
     "text": [
      "¡Hola!\n",
      "¡Hola!\n",
      "¡Hola!\n",
      "¡Hola!\n"
     ]
    }
   ],
   "source": [
    "greetings_list = [\"Hello\", \"How\", \"are\", \"you\"]\n",
    "\n",
    "# Itera a través de cada elemento en greetings_list\n",
    "for _ in greetings_list:\n",
    "    # Imprime \"¡Hola!\" para cada elemento (el guion bajo _ se usa cuando no necesitamos el elemento actual)\n",
    "    print(\"¡Hola!\")"
   ]
  },
  {
   "cell_type": "code",
   "execution_count": 7,
   "id": "eeca6b41-e8ea-42a2-af01-8e93c41bfd4a",
   "metadata": {},
   "outputs": [
    {
     "name": "stdout",
     "output_type": "stream",
     "text": [
      "0\n",
      "1\n",
      "2\n",
      "3\n"
     ]
    }
   ],
   "source": [
    "for i in range(4):\n",
    "    # Imprime el valor actual de 'i' durante cada iteración\n",
    "    print(i)"
   ]
  },
  {
   "cell_type": "code",
   "execution_count": 8,
   "id": "5e5e2587-6f70-4c56-9b85-500e201cb4fd",
   "metadata": {},
   "outputs": [
    {
     "name": "stdout",
     "output_type": "stream",
     "text": [
      "¡Hola!\n",
      "¡Hola!\n",
      "¡Hola!\n",
      "¡Hola!\n"
     ]
    }
   ],
   "source": [
    "greetings_list = [\"Hello\", \"How\", \"are\", \"you\"]\n",
    "\n",
    "# Usa un bucle for para iterar sobre un rango de índices de la lista\n",
    "for i in range(len(greetings_list)):\n",
    "    # Imprime \"¡Hola!\" en cada iteración\n",
    "    print(\"¡Hola!\")"
   ]
  },
  {
   "cell_type": "code",
   "execution_count": 9,
   "id": "2f0d5f4c-abd9-4a7e-9574-6e83332b4888",
   "metadata": {},
   "outputs": [
    {
     "name": "stdout",
     "output_type": "stream",
     "text": [
      "10\n",
      "11\n",
      "12\n",
      "13\n",
      "14\n",
      "15\n",
      "16\n",
      "17\n",
      "18\n",
      "19\n",
      "20\n"
     ]
    }
   ],
   "source": [
    "for i in range(10, 21):\n",
    "    # Imprime el valor actual de 'i' durante cada iteración\n",
    "    print(i)"
   ]
  },
  {
   "cell_type": "code",
   "execution_count": 12,
   "id": "4ee18c59-ec1f-454d-844c-9ce7a25e11cb",
   "metadata": {},
   "outputs": [
    {
     "data": {
      "text/plain": [
       "['H', 'A', 'U']"
      ]
     },
     "execution_count": 12,
     "metadata": {},
     "output_type": "execute_result"
    }
   ],
   "source": [
    "greeting = \"Hello How Are youuUUuu\"\n",
    "new_list = []\n",
    "\n",
    "# Iterar a través de cada carácter (letra) en la cadena 'greeting'.\n",
    "for i in greeting:\n",
    "    # Verificar si el carácter actual 'i' es mayúscula.\n",
    "    if i.isupper():\n",
    "        # Si el carácter es mayúscula, añadirlo a 'new_list'.\n",
    "        new_list.append(i)\n",
    "\n",
    "# Eliminar duplicados convirtiendo 'new_list' en un conjunto y luego de vuelta a una lista.\n",
    "new_list = list(set(new_list))\n",
    "\n",
    "# 'new_list' ahora contiene caracteres únicos en mayúsculas de la cadena 'greeting'.\n",
    "new_list"
   ]
  },
  {
   "cell_type": "code",
   "execution_count": null,
   "id": "cd329b78-a1f0-4559-94ac-c757f2d89009",
   "metadata": {},
   "outputs": [],
   "source": []
  }
 ],
 "metadata": {
  "kernelspec": {
   "display_name": "Python 3 (ipykernel)",
   "language": "python",
   "name": "python3"
  },
  "language_info": {
   "codemirror_mode": {
    "name": "ipython",
    "version": 3
   },
   "file_extension": ".py",
   "mimetype": "text/x-python",
   "name": "python",
   "nbconvert_exporter": "python",
   "pygments_lexer": "ipython3",
   "version": "3.10.12"
  }
 },
 "nbformat": 4,
 "nbformat_minor": 5
}
